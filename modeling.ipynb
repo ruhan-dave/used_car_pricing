{
 "cells": [
  {
   "cell_type": "code",
   "execution_count": 9,
   "metadata": {},
   "outputs": [],
   "source": [
    "from feature_engine.pipeline import Pipeline as pipeline\n",
    "from feature_engine.encoding import RareLabelEncoder as rare_encoder\n",
    "from feature_engine.encoding import MeanEncoder as target_encoder\n",
    "from feature_engine.imputation import MeanMedianImputer as median_imputer\n",
    "from feature_engine.imputation import CategoricalImputer as categorical_imputer\n",
    "from feature_engine.outliers import Winsorizer as winsorizer"
   ]
  },
  {
   "cell_type": "code",
   "execution_count": null,
   "metadata": {},
   "outputs": [],
   "source": [
    "import pandas as pd \n",
    "import numpy as np\n",
    "import matplotlib.pyplot as plt\n",
    "import seaborn as sns"
   ]
  },
  {
   "cell_type": "code",
   "execution_count": 19,
   "metadata": {},
   "outputs": [],
   "source": [
    "from xgboost import XGBRegressor as xgbr\n",
    "from sklearn.model_selection import train_test_split\n",
    "import seaborn as sns\n",
    "import matplotlib.pyplot as plt\n",
    "import numpy as np\n",
    "import pandas as pd\n",
    "import plotly.graph_objects as go\n",
    "from sklearn.model_selection import KFold, StratifiedKFold"
   ]
  },
  {
   "cell_type": "code",
   "execution_count": null,
   "metadata": {},
   "outputs": [],
   "source": [
    "from sklearn.metrics import mean_squared_error\n",
    "from xgboost import XGBRegressor"
   ]
  },
  {
   "cell_type": "code",
   "execution_count": 5,
   "metadata": {},
   "outputs": [],
   "source": [
    "df = pd.read_csv(\"/Users/owner/Desktop/data_science/ml_course/aipi510/assignment9/train.csv\")"
   ]
  },
  {
   "cell_type": "code",
   "execution_count": 6,
   "metadata": {},
   "outputs": [],
   "source": [
    "def understand_df_compact(df):\n",
    "    # Dimensions of dataset\n",
    "    print(\"———————————————————————————————————————————————————————————\")\n",
    "    print(\"Dimension of the dataset is\", df.shape, \"\\n\")\n",
    "\n",
    "    # Summary of dataset\n",
    "    print(\"———————————————————————————————————————————————————————————\")\n",
    "    print(\"Summary of the dataset is \\n\", df.describe(), \"\\n\")\n",
    "    \n",
    "    print(\"———————————————————————————————————————————————————————————\")  \n",
    "    print(\"Number of duplicates:\")\n",
    "    print(df.duplicated().sum())\n",
    "\n",
    "    # Stats of dataset\n",
    "    stats = []\n",
    "\n",
    "    for col in df.columns:\n",
    "        stats.append((col, df[col].nunique(), df[col].isnull().sum() * 100 / df.shape[0], df[col].dtype))\n",
    "\n",
    "    stats_df = pd.DataFrame(stats, columns=['Feature', 'Unique_values', 'Percentage of missing values', 'Type'])\n",
    "    print(\"———————————————————————————————————————————————————————————\")\n",
    "    \n",
    "    print(f\"Statistics of the dataset are \\n {stats_df.sort_values('Percentage of missing values', ascending=False)}\\n\\n\")"
   ]
  },
  {
   "cell_type": "code",
   "execution_count": 7,
   "metadata": {},
   "outputs": [
    {
     "name": "stdout",
     "output_type": "stream",
     "text": [
      "———————————————————————————————————————————————————————————\n",
      "Dimension of the dataset is (188533, 13) \n",
      "\n",
      "———————————————————————————————————————————————————————————\n",
      "Summary of the dataset is \n",
      "                   id     model_year         milage         price\n",
      "count  188533.000000  188533.000000  188533.000000  1.885330e+05\n",
      "mean    94266.000000    2015.829998   65705.295174  4.387802e+04\n",
      "std     54424.933488       5.660967   49798.158076  7.881952e+04\n",
      "min         0.000000    1974.000000     100.000000  2.000000e+03\n",
      "25%     47133.000000    2013.000000   24115.000000  1.700000e+04\n",
      "50%     94266.000000    2017.000000   57785.000000  3.082500e+04\n",
      "75%    141399.000000    2020.000000   95400.000000  4.990000e+04\n",
      "max    188532.000000    2024.000000  405000.000000  2.954083e+06 \n",
      "\n",
      "———————————————————————————————————————————————————————————\n",
      "Number of duplicates:\n",
      "0\n",
      "———————————————————————————————————————————————————————————\n",
      "Statistics of the dataset are \n",
      "          Feature  Unique_values  Percentage of missing values    Type\n",
      "11   clean_title              1                     11.360876  object\n",
      "5      fuel_type              7                      2.696080  object\n",
      "10      accident              2                      1.300568  object\n",
      "0             id         188533                      0.000000   int64\n",
      "1          brand             57                      0.000000  object\n",
      "2          model           1897                      0.000000  object\n",
      "3     model_year             34                      0.000000   int64\n",
      "4         milage           6651                      0.000000   int64\n",
      "6         engine           1117                      0.000000  object\n",
      "7   transmission             52                      0.000000  object\n",
      "8        ext_col            319                      0.000000  object\n",
      "9        int_col            156                      0.000000  object\n",
      "12         price           1569                      0.000000   int64\n",
      "\n",
      "\n"
     ]
    }
   ],
   "source": [
    "understand_df_compact(df)"
   ]
  },
  {
   "cell_type": "code",
   "execution_count": 8,
   "metadata": {},
   "outputs": [],
   "source": [
    "df.drop(columns=[\"id\", \"ext_col\", \"int_col\", \"clean_title\"], inplace=True)"
   ]
  },
  {
   "cell_type": "code",
   "execution_count": 10,
   "metadata": {},
   "outputs": [],
   "source": [
    "def discover_categorical_and_numerical(df):\n",
    "  # type_dictionary = {col: (\"categorical\" if df[col].dtype == \"O\" else \"numerical\") for col in df.columns}\n",
    "  # categorical = [key for key, val in type_dictionary.items() if val == \"categorical\"]\n",
    "\n",
    "  categorical = df.select_dtypes(include=object).columns.to_list() # [c in df.columns if df[c].dtype == \"O\"]\n",
    "  numerical = df.select_dtypes(include=np.number).columns.to_list() # df.columns.difference(categorical)\n",
    "\n",
    "  # make a list of discrete variables\n",
    "  discrete = [var for var in numerical if len(df[var].unique()) < 20]\n",
    "\n",
    "  # categorical encoders work only with object type variables to treat numerical variables as categorical, we need to re-cast them\n",
    "  df[discrete]= df[discrete].astype('O')\n",
    "\n",
    "  # update numerical variables as continuous variables\n",
    "  numerical = [var for var in numerical if var not in discrete]\n",
    "\n",
    "  print(f\"There are {len(categorical)} categorical, {len(discrete)} discrete numerical, and {len(numerical)} continuous numerical variables / features in the dataset\")\n",
    "  return categorical, discrete, numerical"
   ]
  },
  {
   "cell_type": "code",
   "execution_count": 11,
   "metadata": {},
   "outputs": [
    {
     "name": "stdout",
     "output_type": "stream",
     "text": [
      "There are 6 categorical, 0 discrete numerical, and 3 continuous numerical variables / features in the dataset\n"
     ]
    },
    {
     "data": {
      "text/plain": [
       "(['brand', 'model', 'fuel_type', 'engine', 'transmission', 'accident'],\n",
       " [],\n",
       " ['model_year', 'milage', 'price'])"
      ]
     },
     "execution_count": 11,
     "metadata": {},
     "output_type": "execute_result"
    }
   ],
   "source": [
    "categorical, discrete, numerical = discover_categorical_and_numerical(df)\n",
    "categorical, discrete, numerical"
   ]
  },
  {
   "cell_type": "code",
   "execution_count": 12,
   "metadata": {},
   "outputs": [],
   "source": [
    "y_train = df['price'] \n",
    "x_train = df.drop(['price'],axis=1)"
   ]
  },
  {
   "cell_type": "code",
   "execution_count": 15,
   "metadata": {},
   "outputs": [],
   "source": [
    "numerical.remove(\"price\")"
   ]
  },
  {
   "cell_type": "code",
   "execution_count": 24,
   "metadata": {},
   "outputs": [],
   "source": [
    "x_train.to_csv(\"/Users/owner/Desktop/data_science/ml_course/aipi510/assignment9/x_train.csv\")\n",
    "y_train.to_csv(\"/Users/owner/Desktop/data_science/ml_course/aipi510/assignment9/y_train.csv\")"
   ]
  },
  {
   "cell_type": "code",
   "execution_count": 18,
   "metadata": {},
   "outputs": [
    {
     "name": "stderr",
     "output_type": "stream",
     "text": [
      "/Users/owner/Desktop/data_science/ml_course/mlenv/lib/python3.12/site-packages/feature_engine/encoding/rare_label.py:216: UserWarning: The number of unique categories for variable fuel_type is less than that indicated in n_categories. Thus, all categories will be considered frequent\n",
      "  warnings.warn(\n",
      "/Users/owner/Desktop/data_science/ml_course/mlenv/lib/python3.12/site-packages/feature_engine/encoding/rare_label.py:216: UserWarning: The number of unique categories for variable accident is less than that indicated in n_categories. Thus, all categories will be considered frequent\n",
      "  warnings.warn(\n"
     ]
    },
    {
     "data": {
      "text/html": [
       "<div>\n",
       "<style scoped>\n",
       "    .dataframe tbody tr th:only-of-type {\n",
       "        vertical-align: middle;\n",
       "    }\n",
       "\n",
       "    .dataframe tbody tr th {\n",
       "        vertical-align: top;\n",
       "    }\n",
       "\n",
       "    .dataframe thead th {\n",
       "        text-align: right;\n",
       "    }\n",
       "</style>\n",
       "<table border=\"1\" class=\"dataframe\">\n",
       "  <thead>\n",
       "    <tr style=\"text-align: right;\">\n",
       "      <th></th>\n",
       "      <th>brand</th>\n",
       "      <th>model</th>\n",
       "      <th>model_year</th>\n",
       "      <th>milage</th>\n",
       "      <th>fuel_type</th>\n",
       "      <th>engine</th>\n",
       "      <th>transmission</th>\n",
       "      <th>accident</th>\n",
       "    </tr>\n",
       "  </thead>\n",
       "  <tbody>\n",
       "    <tr>\n",
       "      <th>0</th>\n",
       "      <td>39350.16225</td>\n",
       "      <td>43878.016178</td>\n",
       "      <td>2007</td>\n",
       "      <td>202327.5</td>\n",
       "      <td>43360.013782</td>\n",
       "      <td>43878.016178</td>\n",
       "      <td>31711.97914</td>\n",
       "      <td>49024.804144</td>\n",
       "    </tr>\n",
       "    <tr>\n",
       "      <th>1</th>\n",
       "      <td>39350.16225</td>\n",
       "      <td>43878.016178</td>\n",
       "      <td>2002</td>\n",
       "      <td>143250.0</td>\n",
       "      <td>43360.013782</td>\n",
       "      <td>43878.016178</td>\n",
       "      <td>31711.97914</td>\n",
       "      <td>25334.071475</td>\n",
       "    </tr>\n",
       "  </tbody>\n",
       "</table>\n",
       "</div>"
      ],
      "text/plain": [
       "         brand         model  model_year    milage     fuel_type  \\\n",
       "0  39350.16225  43878.016178        2007  202327.5  43360.013782   \n",
       "1  39350.16225  43878.016178        2002  143250.0  43360.013782   \n",
       "\n",
       "         engine  transmission      accident  \n",
       "0  43878.016178   31711.97914  49024.804144  \n",
       "1  43878.016178   31711.97914  25334.071475  "
      ]
     },
     "execution_count": 18,
     "metadata": {},
     "output_type": "execute_result"
    }
   ],
   "source": [
    "processor = pipeline([\n",
    "    # impute missing values with median value of the corresponding feature, applies to numerical features only\n",
    "    ('median_imputation', median_imputer(imputation_method='median', variables=numerical)),\n",
    "\n",
    "    # winsorizer works by capping, instead of removing the outliers. This preserves the useful info from the data and keep the distribution relatively in tact.\n",
    "    ('outlier_treatment', winsorizer(capping_method='iqr', variables=numerical)),\n",
    "\n",
    "    # encode NA or missing values in categorical features with \"missing\".\n",
    "    ('missing_val_encoding', categorical_imputer(variables=categorical, return_object=False, ignore_format=False)),\n",
    "\n",
    "    # should there be rare values within a feature, encode with a label 'rare'\n",
    "    ('rare_val_encoding', rare_encoder(variables=categorical,tol=0.05, n_categories=10)),\n",
    "\n",
    "    # Encode with the avarage target value after grouping by each categorical feature. \n",
    "    ('target_encoder', target_encoder(variables=categorical))\n",
    "])\n",
    "\n",
    "x_train_transformed = processor.fit_transform(x_train, y_train)\n",
    "x_train_transformed.head(2)"
   ]
  },
  {
   "cell_type": "code",
   "execution_count": null,
   "metadata": {},
   "outputs": [],
   "source": [
    "x_train"
   ]
  },
  {
   "cell_type": "code",
   "execution_count": 20,
   "metadata": {},
   "outputs": [],
   "source": [
    "import pickle"
   ]
  },
  {
   "cell_type": "code",
   "execution_count": 23,
   "metadata": {},
   "outputs": [],
   "source": [
    "# 1. Initialize the XGBoost Regressor\n",
    "model = xgbr(n_jobs=-1)\n",
    "\n",
    "# 2. Train the model\n",
    "model.fit(x_train_transformed, y_train)\n",
    "\n",
    "# 3. Save the model to a pickle file using with open()\n",
    "filename = '/Users/owner/Desktop/data_science/ml_course/aipi510/assignment9/xgbr_model.pkl'\n",
    "with open(filename, 'wb') as file:\n",
    "    pickle.dump(model, file)"
   ]
  },
  {
   "cell_type": "code",
   "execution_count": 25,
   "metadata": {},
   "outputs": [],
   "source": [
    "with open('/Users/owner/Desktop/data_science/ml_course/aipi510/assignment9/preprocessor.pkl', 'wb') as file:\n",
    "    pickle.dump(processor, file)"
   ]
  },
  {
   "cell_type": "code",
   "execution_count": 26,
   "metadata": {},
   "outputs": [
    {
     "data": {
      "text/plain": [
       "Index(['brand', 'model', 'model_year', 'milage', 'fuel_type', 'engine',\n",
       "       'transmission', 'accident'],\n",
       "      dtype='object')"
      ]
     },
     "execution_count": 26,
     "metadata": {},
     "output_type": "execute_result"
    }
   ],
   "source": [
    "x_train_transformed.columns"
   ]
  },
  {
   "cell_type": "code",
   "execution_count": 30,
   "metadata": {},
   "outputs": [],
   "source": [
    "x_train = pd.read_csv('/Users/owner/Desktop/data_science/ml_course/aipi510/assignment9/x_train.csv')\n",
    "x_train = x_train[['brand', 'model', 'model_year', 'milage', 'fuel_type', 'engine', 'transmission', 'accident']]"
   ]
  },
  {
   "cell_type": "code",
   "execution_count": 36,
   "metadata": {},
   "outputs": [
    {
     "data": {
      "text/plain": [
       "1897"
      ]
     },
     "execution_count": 36,
     "metadata": {},
     "output_type": "execute_result"
    }
   ],
   "source": [
    "x_train[\"model\"].nunique()"
   ]
  },
  {
   "cell_type": "code",
   "execution_count": 32,
   "metadata": {},
   "outputs": [
    {
     "name": "stdout",
     "output_type": "stream",
     "text": [
      "['MINI' 'Lincoln' 'Chevrolet' 'Genesis' 'Mercedes-Benz' 'Audi' 'Ford'\n",
      " 'BMW' 'Tesla' 'Cadillac' 'Land' 'GMC' 'Toyota' 'Hyundai' 'Volvo'\n",
      " 'Volkswagen' 'Buick' 'Rivian' 'RAM' 'Hummer' 'Alfa' 'INFINITI' 'Jeep'\n",
      " 'Porsche' 'McLaren' 'Honda' 'Lexus' 'Dodge' 'Nissan' 'Jaguar' 'Acura'\n",
      " 'Kia' 'Mitsubishi' 'Rolls-Royce' 'Maserati' 'Pontiac' 'Saturn' 'Bentley'\n",
      " 'Mazda' 'Subaru' 'Ferrari' 'Aston' 'Lamborghini' 'Chrysler' 'Lucid'\n",
      " 'Lotus' 'Scion' 'smart' 'Karma' 'Plymouth' 'Suzuki' 'FIAT' 'Saab'\n",
      " 'Bugatti' 'Mercury' 'Polestar' 'Maybach']\n",
      "['Cooper S Base' 'LS V8' 'Silverado 2500 LT' ... 'e-Golf SE'\n",
      " 'Integra w/A-Spec Tech Package' 'IONIQ Plug-In Hybrid SEL']\n",
      "[2007 2002 2017 2021 2018 2016 2020 2015 2011 2013 2023 2019 2012 2014\n",
      " 2008 2009 2022 2003 2005 2001 2006 2000 2010 2004 1997 1998 1999 1994\n",
      " 1993 1996 1995 2024 1974 1992]\n",
      "[213000 143250 136731 ...   4721   2922 134603]\n",
      "['Gasoline' 'E85 Flex Fuel' nan 'Hybrid' 'Diesel' 'Plug-In Hybrid' '–'\n",
      " 'not supported']\n",
      "['172.0HP 1.6L 4 Cylinder Engine Gasoline Fuel'\n",
      " '252.0HP 3.9L 8 Cylinder Engine Gasoline Fuel'\n",
      " '320.0HP 5.3L 8 Cylinder Engine Flex Fuel Capability' ...\n",
      " '78.0HP 1.2L 3 Cylinder Engine Gasoline Fuel'\n",
      " '139.0HP 1.6L 4 Cylinder Engine Plug-In Electric/Gas'\n",
      " '313.0HP 2.0L 4 Cylinder Engine Plug-In Electric/Gas']\n",
      "['A/T' 'Transmission w/Dual Shift Mode' '7-Speed A/T' '8-Speed A/T'\n",
      " '10-Speed Automatic' '1-Speed A/T' '6-Speed A/T' '10-Speed A/T'\n",
      " '9-Speed A/T' '8-Speed Automatic' '9-Speed Automatic' '5-Speed A/T'\n",
      " 'Automatic' '7-Speed Automatic with Auto-Shift' 'CVT Transmission'\n",
      " '5-Speed M/T' 'M/T' '6-Speed M/T' '6-Speed Automatic' '4-Speed Automatic'\n",
      " '7-Speed M/T' '2-Speed A/T' '1-Speed Automatic' 'Automatic CVT'\n",
      " '4-Speed A/T' '6-Speed Manual' 'Transmission Overdrive Switch'\n",
      " '8-Speed Automatic with Auto-Shift' '7-Speed Manual' '7-Speed Automatic'\n",
      " '9-Speed Automatic with Auto-Shift' '6-Speed Automatic with Auto-Shift'\n",
      " '6-Speed Electronically Controlled Automatic with O' 'F' 'CVT-F'\n",
      " '8-Speed Manual' 'Manual' '–' '2' '6 Speed At/Mt' '5-Speed Automatic'\n",
      " '2-Speed Automatic' '8-SPEED A/T' '7-Speed' 'Variable'\n",
      " 'Single-Speed Fixed Gear' '8-SPEED AT'\n",
      " '10-Speed Automatic with Overdrive' '7-Speed DCT Automatic'\n",
      " 'SCHEDULED FOR OR IN PRODUCTION' '6-Speed' '6 Speed Mt']\n",
      "['None reported' 'At least 1 accident or damage reported' nan]\n"
     ]
    }
   ],
   "source": [
    "for c in x_train.columns:\n",
    "    print(x_train[c].unique())"
   ]
  },
  {
   "cell_type": "code",
   "execution_count": null,
   "metadata": {},
   "outputs": [],
   "source": [
    "manufacturers = ['MINI' 'Lincoln' 'Chevrolet' 'Genesis' 'Mercedes-Benz' 'Audi' 'Ford'\n",
    " 'BMW' 'Tesla' 'Cadillac' 'Land' 'GMC' 'Toyota' 'Hyundai' 'Volvo'\n",
    " 'Volkswagen' 'Buick' 'Rivian' 'RAM' 'Hummer' 'Alfa' 'INFINITI' 'Jeep'\n",
    " 'Porsche' 'McLaren' 'Honda' 'Lexus' 'Dodge' 'Nissan' 'Jaguar' 'Acura'\n",
    " 'Kia' 'Mitsubishi' 'Rolls-Royce' 'Maserati' 'Pontiac' 'Saturn' 'Bentley'\n",
    " 'Mazda' 'Subaru' 'Ferrari' 'Aston' 'Lamborghini' 'Chrysler' 'Lucid'\n",
    " 'Lotus' 'Scion' 'smart' 'Karma' 'Plymouth' 'Suzuki' 'FIAT' 'Saab'\n",
    " 'Bugatti' 'Mercury' 'Polestar' 'Maybach']\n",
    "\n"
   ]
  }
 ],
 "metadata": {
  "kernelspec": {
   "display_name": "mlenv",
   "language": "python",
   "name": "python3"
  },
  "language_info": {
   "codemirror_mode": {
    "name": "ipython",
    "version": 3
   },
   "file_extension": ".py",
   "mimetype": "text/x-python",
   "name": "python",
   "nbconvert_exporter": "python",
   "pygments_lexer": "ipython3",
   "version": "3.12.3"
  }
 },
 "nbformat": 4,
 "nbformat_minor": 2
}
